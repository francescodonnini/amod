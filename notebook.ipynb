{
 "cells": [
  {
   "cell_type": "code",
   "id": "initial_id",
   "metadata": {
    "collapsed": true,
    "ExecuteTime": {
     "end_time": "2024-07-14T13:16:29.153945Z",
     "start_time": "2024-07-14T13:16:29.151686Z"
    }
   },
   "source": [
    "import pandas as pd\n",
    "from matplotlib import pyplot as plt\n",
    "import job"
   ],
   "outputs": [],
   "execution_count": 14
  },
  {
   "metadata": {
    "ExecuteTime": {
     "end_time": "2024-07-14T13:08:59.241013Z",
     "start_time": "2024-07-14T13:08:59.234176Z"
    }
   },
   "cell_type": "code",
   "source": [
    "jobs = pd.read_csv('instances/simple/26/31.csv')\n",
    "jobs"
   ],
   "id": "b938675f407a2b95",
   "outputs": [
    {
     "data": {
      "text/plain": [
       "    job  release  duration\n",
       "0     0        5         7\n",
       "1     1       32        76\n",
       "2     2       92        69\n",
       "3     3       54        43\n",
       "4     4       38        19\n",
       "5     5       22        82\n",
       "6     6        5        12\n",
       "7     7       22        17\n",
       "8     8       79        69\n",
       "9     9        5         9\n",
       "10   10       30        10\n",
       "11   11        3        31\n",
       "12   12      123        62\n",
       "13   13       88         6\n",
       "14   14       13        53\n",
       "15   15       93        38\n",
       "16   16       41        81\n",
       "17   17      223        12\n",
       "18   18       22        67\n",
       "19   19        8         4\n",
       "20   20       19        67\n",
       "21   21       73        39\n",
       "22   22       33        81\n",
       "23   23       29        44\n",
       "24   24      199        76\n",
       "25   25      127        62"
      ],
      "text/html": [
       "<div>\n",
       "<style scoped>\n",
       "    .dataframe tbody tr th:only-of-type {\n",
       "        vertical-align: middle;\n",
       "    }\n",
       "\n",
       "    .dataframe tbody tr th {\n",
       "        vertical-align: top;\n",
       "    }\n",
       "\n",
       "    .dataframe thead th {\n",
       "        text-align: right;\n",
       "    }\n",
       "</style>\n",
       "<table border=\"1\" class=\"dataframe\">\n",
       "  <thead>\n",
       "    <tr style=\"text-align: right;\">\n",
       "      <th></th>\n",
       "      <th>job</th>\n",
       "      <th>release</th>\n",
       "      <th>duration</th>\n",
       "    </tr>\n",
       "  </thead>\n",
       "  <tbody>\n",
       "    <tr>\n",
       "      <th>0</th>\n",
       "      <td>0</td>\n",
       "      <td>5</td>\n",
       "      <td>7</td>\n",
       "    </tr>\n",
       "    <tr>\n",
       "      <th>1</th>\n",
       "      <td>1</td>\n",
       "      <td>32</td>\n",
       "      <td>76</td>\n",
       "    </tr>\n",
       "    <tr>\n",
       "      <th>2</th>\n",
       "      <td>2</td>\n",
       "      <td>92</td>\n",
       "      <td>69</td>\n",
       "    </tr>\n",
       "    <tr>\n",
       "      <th>3</th>\n",
       "      <td>3</td>\n",
       "      <td>54</td>\n",
       "      <td>43</td>\n",
       "    </tr>\n",
       "    <tr>\n",
       "      <th>4</th>\n",
       "      <td>4</td>\n",
       "      <td>38</td>\n",
       "      <td>19</td>\n",
       "    </tr>\n",
       "    <tr>\n",
       "      <th>5</th>\n",
       "      <td>5</td>\n",
       "      <td>22</td>\n",
       "      <td>82</td>\n",
       "    </tr>\n",
       "    <tr>\n",
       "      <th>6</th>\n",
       "      <td>6</td>\n",
       "      <td>5</td>\n",
       "      <td>12</td>\n",
       "    </tr>\n",
       "    <tr>\n",
       "      <th>7</th>\n",
       "      <td>7</td>\n",
       "      <td>22</td>\n",
       "      <td>17</td>\n",
       "    </tr>\n",
       "    <tr>\n",
       "      <th>8</th>\n",
       "      <td>8</td>\n",
       "      <td>79</td>\n",
       "      <td>69</td>\n",
       "    </tr>\n",
       "    <tr>\n",
       "      <th>9</th>\n",
       "      <td>9</td>\n",
       "      <td>5</td>\n",
       "      <td>9</td>\n",
       "    </tr>\n",
       "    <tr>\n",
       "      <th>10</th>\n",
       "      <td>10</td>\n",
       "      <td>30</td>\n",
       "      <td>10</td>\n",
       "    </tr>\n",
       "    <tr>\n",
       "      <th>11</th>\n",
       "      <td>11</td>\n",
       "      <td>3</td>\n",
       "      <td>31</td>\n",
       "    </tr>\n",
       "    <tr>\n",
       "      <th>12</th>\n",
       "      <td>12</td>\n",
       "      <td>123</td>\n",
       "      <td>62</td>\n",
       "    </tr>\n",
       "    <tr>\n",
       "      <th>13</th>\n",
       "      <td>13</td>\n",
       "      <td>88</td>\n",
       "      <td>6</td>\n",
       "    </tr>\n",
       "    <tr>\n",
       "      <th>14</th>\n",
       "      <td>14</td>\n",
       "      <td>13</td>\n",
       "      <td>53</td>\n",
       "    </tr>\n",
       "    <tr>\n",
       "      <th>15</th>\n",
       "      <td>15</td>\n",
       "      <td>93</td>\n",
       "      <td>38</td>\n",
       "    </tr>\n",
       "    <tr>\n",
       "      <th>16</th>\n",
       "      <td>16</td>\n",
       "      <td>41</td>\n",
       "      <td>81</td>\n",
       "    </tr>\n",
       "    <tr>\n",
       "      <th>17</th>\n",
       "      <td>17</td>\n",
       "      <td>223</td>\n",
       "      <td>12</td>\n",
       "    </tr>\n",
       "    <tr>\n",
       "      <th>18</th>\n",
       "      <td>18</td>\n",
       "      <td>22</td>\n",
       "      <td>67</td>\n",
       "    </tr>\n",
       "    <tr>\n",
       "      <th>19</th>\n",
       "      <td>19</td>\n",
       "      <td>8</td>\n",
       "      <td>4</td>\n",
       "    </tr>\n",
       "    <tr>\n",
       "      <th>20</th>\n",
       "      <td>20</td>\n",
       "      <td>19</td>\n",
       "      <td>67</td>\n",
       "    </tr>\n",
       "    <tr>\n",
       "      <th>21</th>\n",
       "      <td>21</td>\n",
       "      <td>73</td>\n",
       "      <td>39</td>\n",
       "    </tr>\n",
       "    <tr>\n",
       "      <th>22</th>\n",
       "      <td>22</td>\n",
       "      <td>33</td>\n",
       "      <td>81</td>\n",
       "    </tr>\n",
       "    <tr>\n",
       "      <th>23</th>\n",
       "      <td>23</td>\n",
       "      <td>29</td>\n",
       "      <td>44</td>\n",
       "    </tr>\n",
       "    <tr>\n",
       "      <th>24</th>\n",
       "      <td>24</td>\n",
       "      <td>199</td>\n",
       "      <td>76</td>\n",
       "    </tr>\n",
       "    <tr>\n",
       "      <th>25</th>\n",
       "      <td>25</td>\n",
       "      <td>127</td>\n",
       "      <td>62</td>\n",
       "    </tr>\n",
       "  </tbody>\n",
       "</table>\n",
       "</div>"
      ]
     },
     "execution_count": 12,
     "metadata": {},
     "output_type": "execute_result"
    }
   ],
   "execution_count": 12
  },
  {
   "metadata": {
    "ExecuteTime": {
     "end_time": "2024-07-14T13:18:39.617999Z",
     "start_time": "2024-07-14T13:18:39.341002Z"
    }
   },
   "cell_type": "code",
   "source": "plt.hist(jobs['release'], bins=len(range(max(jobs['release']))))",
   "id": "5d2a2db11c595014",
   "outputs": [
    {
     "data": {
      "text/plain": [
       "(array([1., 0., 3., 0., 0., 1., 0., 0., 0., 0., 1., 0., 0., 0., 0., 0., 1.,\n",
       "        0., 0., 3., 0., 0., 0., 0., 0., 0., 1., 1., 0., 1., 1., 0., 0., 0.,\n",
       "        0., 1., 0., 0., 1., 0., 0., 0., 0., 0., 0., 0., 0., 0., 0., 0., 0.,\n",
       "        1., 0., 0., 0., 0., 0., 0., 0., 0., 0., 0., 0., 0., 0., 0., 0., 0.,\n",
       "        0., 0., 1., 0., 0., 0., 0., 0., 0., 1., 0., 0., 0., 0., 0., 0., 0.,\n",
       "        0., 1., 0., 0., 0., 1., 1., 0., 0., 0., 0., 0., 0., 0., 0., 0., 0.,\n",
       "        0., 0., 0., 0., 0., 0., 0., 0., 0., 0., 0., 0., 0., 0., 0., 0., 0.,\n",
       "        0., 0., 1., 0., 0., 0., 1., 0., 0., 0., 0., 0., 0., 0., 0., 0., 0.,\n",
       "        0., 0., 0., 0., 0., 0., 0., 0., 0., 0., 0., 0., 0., 0., 0., 0., 0.,\n",
       "        0., 0., 0., 0., 0., 0., 0., 0., 0., 0., 0., 0., 0., 0., 0., 0., 0.,\n",
       "        0., 0., 0., 0., 0., 0., 0., 0., 0., 0., 0., 0., 0., 0., 0., 0., 0.,\n",
       "        0., 0., 0., 0., 0., 0., 0., 0., 0., 0., 0., 1., 0., 0., 0., 0., 0.,\n",
       "        0., 0., 0., 0., 0., 0., 0., 0., 0., 0., 0., 0., 0., 0., 0., 0., 0.,\n",
       "        0., 1.]),\n",
       " array([  3.        ,   3.98654709,   4.97309417,   5.95964126,\n",
       "          6.94618834,   7.93273543,   8.91928251,   9.9058296 ,\n",
       "         10.89237668,  11.87892377,  12.86547085,  13.85201794,\n",
       "         14.83856502,  15.82511211,  16.81165919,  17.79820628,\n",
       "         18.78475336,  19.77130045,  20.75784753,  21.74439462,\n",
       "         22.7309417 ,  23.71748879,  24.70403587,  25.69058296,\n",
       "         26.67713004,  27.66367713,  28.65022422,  29.6367713 ,\n",
       "         30.62331839,  31.60986547,  32.59641256,  33.58295964,\n",
       "         34.56950673,  35.55605381,  36.5426009 ,  37.52914798,\n",
       "         38.51569507,  39.50224215,  40.48878924,  41.47533632,\n",
       "         42.46188341,  43.44843049,  44.43497758,  45.42152466,\n",
       "         46.40807175,  47.39461883,  48.38116592,  49.367713  ,\n",
       "         50.35426009,  51.34080717,  52.32735426,  53.31390135,\n",
       "         54.30044843,  55.28699552,  56.2735426 ,  57.26008969,\n",
       "         58.24663677,  59.23318386,  60.21973094,  61.20627803,\n",
       "         62.19282511,  63.1793722 ,  64.16591928,  65.15246637,\n",
       "         66.13901345,  67.12556054,  68.11210762,  69.09865471,\n",
       "         70.08520179,  71.07174888,  72.05829596,  73.04484305,\n",
       "         74.03139013,  75.01793722,  76.0044843 ,  76.99103139,\n",
       "         77.97757848,  78.96412556,  79.95067265,  80.93721973,\n",
       "         81.92376682,  82.9103139 ,  83.89686099,  84.88340807,\n",
       "         85.86995516,  86.85650224,  87.84304933,  88.82959641,\n",
       "         89.8161435 ,  90.80269058,  91.78923767,  92.77578475,\n",
       "         93.76233184,  94.74887892,  95.73542601,  96.72197309,\n",
       "         97.70852018,  98.69506726,  99.68161435, 100.66816143,\n",
       "        101.65470852, 102.64125561, 103.62780269, 104.61434978,\n",
       "        105.60089686, 106.58744395, 107.57399103, 108.56053812,\n",
       "        109.5470852 , 110.53363229, 111.52017937, 112.50672646,\n",
       "        113.49327354, 114.47982063, 115.46636771, 116.4529148 ,\n",
       "        117.43946188, 118.42600897, 119.41255605, 120.39910314,\n",
       "        121.38565022, 122.37219731, 123.35874439, 124.34529148,\n",
       "        125.33183857, 126.31838565, 127.30493274, 128.29147982,\n",
       "        129.27802691, 130.26457399, 131.25112108, 132.23766816,\n",
       "        133.22421525, 134.21076233, 135.19730942, 136.1838565 ,\n",
       "        137.17040359, 138.15695067, 139.14349776, 140.13004484,\n",
       "        141.11659193, 142.10313901, 143.0896861 , 144.07623318,\n",
       "        145.06278027, 146.04932735, 147.03587444, 148.02242152,\n",
       "        149.00896861, 149.9955157 , 150.98206278, 151.96860987,\n",
       "        152.95515695, 153.94170404, 154.92825112, 155.91479821,\n",
       "        156.90134529, 157.88789238, 158.87443946, 159.86098655,\n",
       "        160.84753363, 161.83408072, 162.8206278 , 163.80717489,\n",
       "        164.79372197, 165.78026906, 166.76681614, 167.75336323,\n",
       "        168.73991031, 169.7264574 , 170.71300448, 171.69955157,\n",
       "        172.68609865, 173.67264574, 174.65919283, 175.64573991,\n",
       "        176.632287  , 177.61883408, 178.60538117, 179.59192825,\n",
       "        180.57847534, 181.56502242, 182.55156951, 183.53811659,\n",
       "        184.52466368, 185.51121076, 186.49775785, 187.48430493,\n",
       "        188.47085202, 189.4573991 , 190.44394619, 191.43049327,\n",
       "        192.41704036, 193.40358744, 194.39013453, 195.37668161,\n",
       "        196.3632287 , 197.34977578, 198.33632287, 199.32286996,\n",
       "        200.30941704, 201.29596413, 202.28251121, 203.2690583 ,\n",
       "        204.25560538, 205.24215247, 206.22869955, 207.21524664,\n",
       "        208.20179372, 209.18834081, 210.17488789, 211.16143498,\n",
       "        212.14798206, 213.13452915, 214.12107623, 215.10762332,\n",
       "        216.0941704 , 217.08071749, 218.06726457, 219.05381166,\n",
       "        220.04035874, 221.02690583, 222.01345291, 223.        ]),\n",
       " <BarContainer object of 223 artists>)"
      ]
     },
     "execution_count": 19,
     "metadata": {},
     "output_type": "execute_result"
    },
    {
     "data": {
      "text/plain": [
       "<Figure size 640x480 with 1 Axes>"
      ],
      "image/png": "[encoded data removed]"
     },
     "metadata": {},
     "output_type": "display_data"
    }
   ],
   "execution_count": 19
  },
  {
   "metadata": {
    "ExecuteTime": {
     "end_time": "2024-07-14T13:19:09.139195Z",
     "start_time": "2024-07-14T13:19:08.979104Z"
    }
   },
   "cell_type": "code",
   "source": "plt.hist(jobs['duration'], bins=len(range(max(jobs['duration']))))",
   "id": "3b4314c233ce9176",
   "outputs": [
    {
     "data": {
      "text/plain": [
       "(array([1., 0., 1., 1., 0., 1., 1., 0., 2., 0., 0., 0., 0., 1., 0., 1., 0.,\n",
       "        0., 0., 0., 0., 0., 0., 0., 0., 0., 0., 0., 1., 0., 0., 0., 0., 0.,\n",
       "        0., 1., 1., 0., 0., 0., 0., 1., 1., 0., 0., 0., 0., 0., 0., 0., 0.,\n",
       "        1., 0., 0., 0., 0., 0., 0., 0., 0., 2., 0., 0., 0., 0., 0., 2., 0.,\n",
       "        2., 0., 0., 0., 0., 0., 0., 2., 0., 0., 0., 0., 2., 1.]),\n",
       " array([ 4.        ,  4.95121951,  5.90243902,  6.85365854,  7.80487805,\n",
       "         8.75609756,  9.70731707, 10.65853659, 11.6097561 , 12.56097561,\n",
       "        13.51219512, 14.46341463, 15.41463415, 16.36585366, 17.31707317,\n",
       "        18.26829268, 19.2195122 , 20.17073171, 21.12195122, 22.07317073,\n",
       "        23.02439024, 23.97560976, 24.92682927, 25.87804878, 26.82926829,\n",
       "        27.7804878 , 28.73170732, 29.68292683, 30.63414634, 31.58536585,\n",
       "        32.53658537, 33.48780488, 34.43902439, 35.3902439 , 36.34146341,\n",
       "        37.29268293, 38.24390244, 39.19512195, 40.14634146, 41.09756098,\n",
       "        42.04878049, 43.        , 43.95121951, 44.90243902, 45.85365854,\n",
       "        46.80487805, 47.75609756, 48.70731707, 49.65853659, 50.6097561 ,\n",
       "        51.56097561, 52.51219512, 53.46341463, 54.41463415, 55.36585366,\n",
       "        56.31707317, 57.26829268, 58.2195122 , 59.17073171, 60.12195122,\n",
       "        61.07317073, 62.02439024, 62.97560976, 63.92682927, 64.87804878,\n",
       "        65.82926829, 66.7804878 , 67.73170732, 68.68292683, 69.63414634,\n",
       "        70.58536585, 71.53658537, 72.48780488, 73.43902439, 74.3902439 ,\n",
       "        75.34146341, 76.29268293, 77.24390244, 78.19512195, 79.14634146,\n",
       "        80.09756098, 81.04878049, 82.        ]),\n",
       " <BarContainer object of 82 artists>)"
      ]
     },
     "execution_count": 20,
     "metadata": {},
     "output_type": "execute_result"
    },
    {
     "data": {
      "text/plain": [
       "<Figure size 640x480 with 1 Axes>"
      ],
      "image/png": "[encoded data removed]"
     },
     "metadata": {},
     "output_type": "display_data"
    }
   ],
   "execution_count": 20
  },
  {
   "metadata": {
    "ExecuteTime": {
     "end_time": "2024-07-14T13:23:39.995975Z",
     "start_time": "2024-07-14T13:23:39.796490Z"
    }
   },
   "cell_type": "code",
   "source": [
    "jobs2 = pd.read_csv('instances/simple/26/30.csv')\n",
    "jobs = pd.read_csv('instances/simple/26/31.csv')\n",
    "# plt.hist(jobs['release'], bins=len(range(max(jobs['release']))), label='r1')\n",
    "plt.hist(jobs['duration'], bins=len(range(max(jobs['duration']))), label='d1')\n",
    "# plt.hist(jobs2['release'], bins=len(range(max(jobs2['release']))), label='r2')\n",
    "plt.hist(jobs2['duration'], bins=len(range(max(jobs2['duration']))), label='d2')\n",
    "plt.legend(loc='upper right')\n",
    "plt.show()"
   ],
   "id": "4eca633405ee59ca",
   "outputs": [
    {
     "data": {
      "text/plain": [
       "<Figure size 640x480 with 1 Axes>"
      ],
      "image/png": "[encoded data removed]"
     },
     "metadata": {},
     "output_type": "display_data"
    }
   ],
   "execution_count": 28
  },
  {
   "metadata": {
    "ExecuteTime": {
     "end_time": "2024-07-14T13:35:08.887886Z",
     "start_time": "2024-07-14T13:35:08.883646Z"
    }
   },
   "cell_type": "code",
   "source": [
    "from job import load_csv\n",
    "from srpt import rule\n",
    "\n",
    "s = rule(load_csv('instances/simple/26/31.csv'))\n",
    "print(all(map(lambda j: j.amount == j.job.duration, s)))"
   ],
   "id": "4e1e68657b68bfa4",
   "outputs": [
    {
     "name": "stdout",
     "output_type": "stream",
     "text": [
      "False\n"
     ]
    }
   ],
   "execution_count": 30
  },
  {
   "metadata": {},
   "cell_type": "code",
   "outputs": [],
   "execution_count": null,
   "source": "",
   "id": "a5c9468115113544"
  }
 ],
 "metadata": {
  "kernelspec": {
   "display_name": "Python 3",
   "language": "python",
   "name": "python3"
  },
  "language_info": {
   "codemirror_mode": {
    "name": "ipython",
    "version": 2
   },
   "file_extension": ".py",
   "mimetype": "text/x-python",
   "name": "python",
   "nbconvert_exporter": "python",
   "pygments_lexer": "ipython2",
   "version": "2.7.6"
  }
 },
 "nbformat": 4,
 "nbformat_minor": 5
}
